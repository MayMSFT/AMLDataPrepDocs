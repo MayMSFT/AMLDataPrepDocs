{
 "cells": [
  {
   "cell_type": "markdown",
   "metadata": {},
   "source": [
    "# External References\n",
    "Copyright (c) Microsoft Corporation. All rights reserved.<br>\n",
    "Licensed under the MIT License."
   ]
  },
  {
   "cell_type": "markdown",
   "metadata": {},
   "source": [
    "In addition to opening existing Dataflows in code and modifying them, it is also possible to create and persist Dataflows that reference another Dataflow that has been persisted to a Data Prep package. In this case, executing this Dataflow will load the referenced Data Prep package dynamically, execute the referenced Dataflow, and then execute the steps in the referencing Dataflow."
   ]
  },
  {
   "cell_type": "markdown",
   "metadata": {},
   "source": [
    "To demonstrate, we will create a Dataflow that loads and transforms some data. After that, we will persist this Dataflow to a Data Prep package."
   ]
  },
  {
   "cell_type": "code",
   "execution_count": 1,
   "metadata": {},
   "outputs": [],
   "source": [
    "import azureml.dataprep as dprep\n",
    "import tempfile\n",
    "import os\n",
    "\n",
    "dflow = dprep.auto_read_file('../data/crime.txt')\n",
    "dflow = dflow.drop_errors(['Column7', 'Column8', 'Column9'], dprep.ColumnRelationship.ANY)\n",
    "dflow = dflow.set_name('FWF')\n",
    "pkg = dprep.Package(dflow)\n",
    "pkg_path = os.path.join(tempfile.gettempdir(), 'package.dprep')\n",
    "pkg = pkg.save(pkg_path)"
   ]
  },
  {
   "cell_type": "markdown",
   "metadata": {},
   "source": [
    "Now that we have a package file, we can create a new Dataflow that references it."
   ]
  },
  {
   "cell_type": "code",
   "execution_count": 2,
   "metadata": {},
   "outputs": [
    {
     "data": {
      "text/html": [
       "<div>\n",
       "<table border=\"1\" class=\"dataframe\">\n",
       "  <thead>\n",
       "    <tr style=\"text-align: right;\">\n",
       "      <th></th>\n",
       "      <th>Column1</th>\n",
       "      <th>Column2</th>\n",
       "      <th>Column3</th>\n",
       "      <th>Column4</th>\n",
       "      <th>Column5</th>\n",
       "      <th>Column6</th>\n",
       "      <th>Column7</th>\n",
       "      <th>Column8</th>\n",
       "      <th>Column9</th>\n",
       "    </tr>\n",
       "  </thead>\n",
       "  <tbody>\n",
       "    <tr>\n",
       "      <th>0</th>\n",
       "      <td>10140490.0</td>\n",
       "      <td>HY</td>\n",
       "      <td>329907.0</td>\n",
       "      <td>7/5/2015</td>\n",
       "      <td>23:50</td>\n",
       "      <td>50.0</td>\n",
       "      <td>XX</td>\n",
       "      <td>N</td>\n",
       "      <td>NEWLAND AVE 820    THEFT</td>\n",
       "    </tr>\n",
       "    <tr>\n",
       "      <th>1</th>\n",
       "      <td>10139776.0</td>\n",
       "      <td>HY</td>\n",
       "      <td>329265.0</td>\n",
       "      <td>7/5/2015</td>\n",
       "      <td>23:30</td>\n",
       "      <td>11.0</td>\n",
       "      <td>XX</td>\n",
       "      <td>W</td>\n",
       "      <td>MORSE AVE 460    BATTERY</td>\n",
       "    </tr>\n",
       "    <tr>\n",
       "      <th>2</th>\n",
       "      <td>10140270.0</td>\n",
       "      <td>HY</td>\n",
       "      <td>329253.0</td>\n",
       "      <td>7/5/2015</td>\n",
       "      <td>23:20</td>\n",
       "      <td>121.0</td>\n",
       "      <td>XX</td>\n",
       "      <td>S</td>\n",
       "      <td>FRONT AVE 486    BATTERY</td>\n",
       "    </tr>\n",
       "    <tr>\n",
       "      <th>3</th>\n",
       "      <td>10139885.0</td>\n",
       "      <td>HY</td>\n",
       "      <td>329308.0</td>\n",
       "      <td>7/5/2015</td>\n",
       "      <td>23:19</td>\n",
       "      <td>51.0</td>\n",
       "      <td>XX</td>\n",
       "      <td>W</td>\n",
       "      <td>DIVISION ST 610    BURGLARY</td>\n",
       "    </tr>\n",
       "    <tr>\n",
       "      <th>4</th>\n",
       "      <td>10140379.0</td>\n",
       "      <td>HY</td>\n",
       "      <td>329556.0</td>\n",
       "      <td>7/5/2015</td>\n",
       "      <td>23:00</td>\n",
       "      <td>12.0</td>\n",
       "      <td>XX</td>\n",
       "      <td>W</td>\n",
       "      <td>LAKE ST 930    MOTOR VEHICLE THEFT</td>\n",
       "    </tr>\n",
       "  </tbody>\n",
       "</table>\n",
       "</div>"
      ],
      "text/plain": [
       "      Column1 Column2   Column3     Column4                  Column5  Column6  \\\n",
       "0  10140490.0      HY  329907.0  7/5/2015    23:50                       50.0   \n",
       "1  10139776.0      HY  329265.0  7/5/2015    23:30                       11.0   \n",
       "2  10140270.0      HY  329253.0  7/5/2015    23:20                      121.0   \n",
       "3  10139885.0      HY  329308.0  7/5/2015    23:19                       51.0   \n",
       "4  10140379.0      HY  329556.0  7/5/2015    23:00                       12.0   \n",
       "\n",
       "  Column7 Column8                                    Column9  \n",
       "0     XX       N   NEWLAND AVE 820    THEFT                   \n",
       "1     XX       W                    MORSE AVE 460    BATTERY  \n",
       "2     XX       S                    FRONT AVE 486    BATTERY  \n",
       "3     XX       W                 DIVISION ST 610    BURGLARY  \n",
       "4     XX       W          LAKE ST 930    MOTOR VEHICLE THEFT  "
      ]
     },
     "execution_count": 2,
     "metadata": {},
     "output_type": "execute_result"
    }
   ],
   "source": [
    "dflow_new = dprep.Dataflow.reference(dprep.ExternalReference(pkg_path, 'FWF'))\n",
    "dflow_new.head(5)"
   ]
  },
  {
   "cell_type": "markdown",
   "metadata": {},
   "source": [
    "When executed, the new Dataflow returns the same results as the one we saved in our package. Since this reference is resolved on execution, updating the package file results in the changes being visible when re-executing the referencing Dataflow."
   ]
  },
  {
   "cell_type": "code",
   "execution_count": 3,
   "metadata": {},
   "outputs": [
    {
     "data": {
      "text/html": [
       "<div>\n",
       "<table border=\"1\" class=\"dataframe\">\n",
       "  <thead>\n",
       "    <tr style=\"text-align: right;\">\n",
       "      <th></th>\n",
       "      <th>Column1</th>\n",
       "      <th>Column2</th>\n",
       "      <th>Column3</th>\n",
       "      <th>Column4</th>\n",
       "      <th>Column5</th>\n",
       "      <th>Column6</th>\n",
       "      <th>Column7</th>\n",
       "      <th>Column8</th>\n",
       "      <th>Column9</th>\n",
       "    </tr>\n",
       "  </thead>\n",
       "  <tbody>\n",
       "    <tr>\n",
       "      <th>0</th>\n",
       "      <td>10140490.0</td>\n",
       "      <td>HY</td>\n",
       "      <td>329907.0</td>\n",
       "      <td>7/5/2015</td>\n",
       "      <td>23:50</td>\n",
       "      <td>50.0</td>\n",
       "      <td>XX</td>\n",
       "      <td>N</td>\n",
       "      <td>NEWLAND AVE 820    THEFT</td>\n",
       "    </tr>\n",
       "    <tr>\n",
       "      <th>1</th>\n",
       "      <td>10139776.0</td>\n",
       "      <td>HY</td>\n",
       "      <td>329265.0</td>\n",
       "      <td>7/5/2015</td>\n",
       "      <td>23:30</td>\n",
       "      <td>11.0</td>\n",
       "      <td>XX</td>\n",
       "      <td>W</td>\n",
       "      <td>MORSE AVE 460    BATTERY</td>\n",
       "    </tr>\n",
       "    <tr>\n",
       "      <th>2</th>\n",
       "      <td>10140270.0</td>\n",
       "      <td>HY</td>\n",
       "      <td>329253.0</td>\n",
       "      <td>7/5/2015</td>\n",
       "      <td>23:20</td>\n",
       "      <td>121.0</td>\n",
       "      <td>XX</td>\n",
       "      <td>S</td>\n",
       "      <td>FRONT AVE 486    BATTERY</td>\n",
       "    </tr>\n",
       "    <tr>\n",
       "      <th>3</th>\n",
       "      <td>10139885.0</td>\n",
       "      <td>HY</td>\n",
       "      <td>329308.0</td>\n",
       "      <td>7/5/2015</td>\n",
       "      <td>23:19</td>\n",
       "      <td>51.0</td>\n",
       "      <td>XX</td>\n",
       "      <td>W</td>\n",
       "      <td>DIVISION ST 610    BURGLARY</td>\n",
       "    </tr>\n",
       "    <tr>\n",
       "      <th>4</th>\n",
       "      <td>10140379.0</td>\n",
       "      <td>HY</td>\n",
       "      <td>329556.0</td>\n",
       "      <td>7/5/2015</td>\n",
       "      <td>23:00</td>\n",
       "      <td>12.0</td>\n",
       "      <td>XX</td>\n",
       "      <td>W</td>\n",
       "      <td>LAKE ST 930    MOTOR VEHICLE THEFT</td>\n",
       "    </tr>\n",
       "  </tbody>\n",
       "</table>\n",
       "</div>"
      ],
      "text/plain": [
       "      Column1 Column2   Column3     Column4                  Column5  Column6  \\\n",
       "0  10140490.0      HY  329907.0  7/5/2015    23:50                       50.0   \n",
       "1  10139776.0      HY  329265.0  7/5/2015    23:30                       11.0   \n",
       "2  10140270.0      HY  329253.0  7/5/2015    23:20                      121.0   \n",
       "3  10139885.0      HY  329308.0  7/5/2015    23:19                       51.0   \n",
       "4  10140379.0      HY  329556.0  7/5/2015    23:00                       12.0   \n",
       "\n",
       "  Column7 Column8                                    Column9  \n",
       "0     XX       N   NEWLAND AVE 820    THEFT                   \n",
       "1     XX       W                    MORSE AVE 460    BATTERY  \n",
       "2     XX       S                    FRONT AVE 486    BATTERY  \n",
       "3     XX       W                 DIVISION ST 610    BURGLARY  \n",
       "4     XX       W          LAKE ST 930    MOTOR VEHICLE THEFT  "
      ]
     },
     "execution_count": 3,
     "metadata": {},
     "output_type": "execute_result"
    }
   ],
   "source": [
    "dflow = dflow.take(5)\n",
    "pkg = dprep.Package(dflow)\n",
    "pkg.save(pkg_path)\n",
    "\n",
    "dflow_new.head(10)"
   ]
  },
  {
   "cell_type": "markdown",
   "metadata": {},
   "source": [
    "As we can see, even though we did not modify `dflow_new`, it now returns only 5 records, as the package was updated with the Dataflow that resulted from calling `df.take(5)`."
   ]
  }
 ],
 "metadata": {
  "kernelspec": {
   "display_name": "Python 3",
   "language": "python",
   "name": "python3"
  },
  "language_info": {
   "codemirror_mode": {
    "name": "ipython",
    "version": 3
   },
   "file_extension": ".py",
   "mimetype": "text/x-python",
   "name": "python",
   "nbconvert_exporter": "python",
   "pygments_lexer": "ipython3",
   "version": "3.6.4"
  }
 },
 "nbformat": 4,
 "nbformat_minor": 2
}
