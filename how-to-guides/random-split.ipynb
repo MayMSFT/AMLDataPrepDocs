{
 "cells": [
  {
   "cell_type": "markdown",
   "metadata": {},
   "source": [
    "# Random Split\n",
    "Copyright (c) Microsoft Corporation. All rights reserved.<br>\n",
    "Licensed under the MIT License."
   ]
  },
  {
   "cell_type": "code",
   "execution_count": 1,
   "metadata": {},
   "outputs": [],
   "source": [
    "import azureml.dataprep as dprep"
   ]
  },
  {
   "cell_type": "markdown",
   "metadata": {},
   "source": [
    "Azure ML Data Prep provides the functionality of splitting a data set into two. When training a machine learning model, it is often desirable to train the model on a subset of data, then validate the model on a different subset."
   ]
  },
  {
   "cell_type": "markdown",
   "metadata": {},
   "source": [
    "The `random_split(percentage, seed=None, split_dataflow_name=None)` function in Data Prep takes in a Dataflow, randomly splitting it into two distinct subsets (approximately by the percentage specified)."
   ]
  },
  {
   "cell_type": "markdown",
   "metadata": {},
   "source": [
    "The `seed` parameter is optional. If a seed is not provided, a stable one is generated, ensuring that the results for a specific Dataflow remain consistent. Different calls to `random_split` will receive different seeds."
   ]
  },
  {
   "cell_type": "markdown",
   "metadata": {},
   "source": [
    "The `split_dataflow_name` is also optional. If a name is not provided, the second Dataflow returned will be the name of the first Dataflow with a suffix \"_split\"."
   ]
  },
  {
   "cell_type": "markdown",
   "metadata": {},
   "source": [
    "To demonstrate, you can go through the following example. First, you can read the first 10,000 lines from a file. Since the contents of the file don't matter, just the first two columns can be used for a simple example."
   ]
  },
  {
   "cell_type": "code",
   "execution_count": 2,
   "metadata": {},
   "outputs": [
    {
     "name": "stdout",
     "output_type": "stream",
     "text": [
      "Row count of \"dflow_test_name\": 10000\n"
     ]
    }
   ],
   "source": [
    "dflow = dprep.read_csv(path='https://dpreptestfiles.blob.core.windows.net/testfiles/crime0.csv').take(10000)\n",
    "dflow = dflow.keep_columns(['ID', 'Date'])\n",
    "dflow = dflow.set_name('dflow_test_name')\n",
    "profile = dflow.get_profile()\n",
    "print('Row count of \"%s\": %d' % (dflow.name, profile.columns['ID'].count))"
   ]
  },
  {
   "cell_type": "markdown",
   "metadata": {},
   "source": [
    "Next, you can call `random_split` with the percentage set to 10% (the actual split ratio will be an approximation of `percentage`). You can take a look at the row count of the first returned Dataflow. You should see that `dflow_test` has approximately 1,000 rows (10% of 10,000)."
   ]
  },
  {
   "cell_type": "code",
   "execution_count": 3,
   "metadata": {},
   "outputs": [
    {
     "name": "stdout",
     "output_type": "stream",
     "text": [
      "Row count of \"dflow_test_name\": 956\n"
     ]
    }
   ],
   "source": [
    "(dflow_test, dflow_train) = dflow.random_split(percentage=0.1)\n",
    "profile_test = dflow_test.get_profile()\n",
    "print('Row count of \"%s\": %d' % (dflow_test.name, profile_test.columns['ID'].count))"
   ]
  },
  {
   "cell_type": "markdown",
   "metadata": {},
   "source": [
    "Now you can take a look at the row count of the second returned Dataflow. The row count of `dflow_test` and `dflow_train` sums exactly to 10,000, because `random_split` results in two subsets that make up the original Dataflow. Also note that the second Dataflow's name is \"dataflow_test_name_split\", because no Dataflow name was supplied to `random_split`."
   ]
  },
  {
   "cell_type": "code",
   "execution_count": 4,
   "metadata": {
    "scrolled": true
   },
   "outputs": [
    {
     "name": "stdout",
     "output_type": "stream",
     "text": [
      "Row count of \"dflow_test_name_split\": 9044\n"
     ]
    }
   ],
   "source": [
    "profile_train = dflow_train.get_profile()\n",
    "print('Row count of \"%s\": %d' % (dflow_train.name, profile_train.columns['ID'].count))"
   ]
  },
  {
   "cell_type": "markdown",
   "metadata": {},
   "source": [
    "To specify a fixed seed, or a name for the second Dataflow, simply provide them to the `random_split` function."
   ]
  },
  {
   "cell_type": "code",
   "execution_count": 5,
   "metadata": {},
   "outputs": [],
   "source": [
    "(dflow_test, dflow_train) = dflow.random_split(percentage=0.1, seed=12345, split_dataflow_name='random_split_dflow_train')"
   ]
  }
 ],
 "metadata": {
  "kernelspec": {
   "display_name": "Python 3",
   "language": "python",
   "name": "python3"
  },
  "language_info": {
   "codemirror_mode": {
    "name": "ipython",
    "version": 3
   },
   "file_extension": ".py",
   "mimetype": "text/x-python",
   "name": "python",
   "nbconvert_exporter": "python",
   "pygments_lexer": "ipython3",
   "version": "3.6.5"
  }
 },
 "nbformat": 4,
 "nbformat_minor": 2
}
