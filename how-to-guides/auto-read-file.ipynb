{
 "cells": [
  {
   "cell_type": "markdown",
   "metadata": {},
   "source": [
    "# Auto Read File\n",
    "Copyright (c) Microsoft Corporation. All rights reserved.<br>\n",
    "Licensed under the MIT License."
   ]
  },
  {
   "cell_type": "code",
   "execution_count": 1,
   "metadata": {},
   "outputs": [],
   "source": [
    "import azureml.dataprep as dprep"
   ]
  },
  {
   "cell_type": "markdown",
   "metadata": {},
   "source": [
    "Data Prep has the ability to load different kinds of text files. The `auto_read_file` entry point can take any text based file (including excel, json and parquet) and auto-detect how to parse the file. It will also attempt to auto-detect the types of each column and apply type transformations to the columns it detects.\n",
    "\n",
    "The result will be a Dataflow object that has all the steps added that are required to read the given file(s) and convert their columns to the predicted types. No parameters are required beyond the file path or `FileDataSource` object."
   ]
  },
  {
   "cell_type": "code",
   "execution_count": 2,
   "metadata": {},
   "outputs": [
    {
     "data": {
      "text/html": [
       "<div>\n",
       "<table border=\"1\" class=\"dataframe\">\n",
       "  <thead>\n",
       "    <tr style=\"text-align: right;\">\n",
       "      <th></th>\n",
       "      <th>ID</th>\n",
       "      <th>CaseNumber</th>\n",
       "      <th>Column3</th>\n",
       "      <th>Completed</th>\n",
       "      <th>Column5</th>\n",
       "    </tr>\n",
       "  </thead>\n",
       "  <tbody>\n",
       "    <tr>\n",
       "      <th>0</th>\n",
       "      <td>10140490.0</td>\n",
       "      <td>HY329907</td>\n",
       "      <td></td>\n",
       "      <td>Y</td>\n",
       "      <td></td>\n",
       "    </tr>\n",
       "    <tr>\n",
       "      <th>1</th>\n",
       "      <td>10139776.0</td>\n",
       "      <td>HY329265</td>\n",
       "      <td></td>\n",
       "      <td>Y</td>\n",
       "      <td></td>\n",
       "    </tr>\n",
       "    <tr>\n",
       "      <th>2</th>\n",
       "      <td>10140270.0</td>\n",
       "      <td>HY329253</td>\n",
       "      <td></td>\n",
       "      <td>N</td>\n",
       "      <td></td>\n",
       "    </tr>\n",
       "    <tr>\n",
       "      <th>3</th>\n",
       "      <td>10139885.0</td>\n",
       "      <td>HY329308</td>\n",
       "      <td></td>\n",
       "      <td>Y</td>\n",
       "      <td></td>\n",
       "    </tr>\n",
       "    <tr>\n",
       "      <th>4</th>\n",
       "      <td>10140379.0</td>\n",
       "      <td>HY329556</td>\n",
       "      <td></td>\n",
       "      <td>N</td>\n",
       "      <td></td>\n",
       "    </tr>\n",
       "  </tbody>\n",
       "</table>\n",
       "</div>"
      ],
      "text/plain": [
       "           ID CaseNumber Column3 Completed Column5\n",
       "0  10140490.0   HY329907                 Y        \n",
       "1  10139776.0   HY329265                 Y        \n",
       "2  10140270.0   HY329253                 N        \n",
       "3  10139885.0   HY329308                 Y        \n",
       "4  10140379.0   HY329556                 N        "
      ]
     },
     "execution_count": 2,
     "metadata": {},
     "output_type": "execute_result"
    }
   ],
   "source": [
    "dflow_auto = dprep.auto_read_file('../data/crime_multiple_separators.csv')\n",
    "dflow_auto.head(5)"
   ]
  },
  {
   "cell_type": "markdown",
   "metadata": {},
   "source": [
    "Looking at the data, we can see that there are two empty columns either side of the 'Completed' column.\n",
    "If we compare the dataframe to a few rows from the original file:\n",
    "```\n",
    "ID |CaseNumber| |Completed|\n",
    "10140490 |HY329907| |Y|\n",
    "10139776 |HY329265| |Y|\n",
    "```\n",
    "We can see that the `|`'s have disappeared in the dataframe. This is because `|` is a very common separator character in csv files, so `auto_read_file` guessed it was the column separator. For this data we actually want the `|`'s to remain and instead use space as the column separator.\n",
    "\n",
    "To achieve this we can use `detect_file_format`. It takes a file path or datasource object and gives back a `FileFormatBuilder` which has learnt some information about the supplied data.\n",
    "This is what `auto_read_file` is using behind the scenes to 'learn' the contents of the given file and determine how to parse it. With the `FileFormatBuilder` we can take advantage of the intelligent learning aspect of `auto_read_file` but have the chance to modify some of the learnt information."
   ]
  },
  {
   "cell_type": "code",
   "execution_count": 3,
   "metadata": {},
   "outputs": [
    {
     "name": "stdout",
     "output_type": "stream",
     "text": [
      "ParseDelimitedProperties\n",
      "    separator: '|'\n",
      "    headers_mode: PromoteHeadersMode.CONSTANTGROUPED\n",
      "    encoding: FileEncoding.UTF8\n",
      "    quoting: False\n",
      "    skip_rows: 0\n",
      "    skip_mode: SkipMode.NONE\n",
      "    comment: None\n",
      "\n",
      "ReadExcelProperties\n",
      "    sheet_name: None\n",
      "    use_column_headers: False\n",
      "    skip_rows: 0\n",
      "\n",
      "ParseFixedWidthProperties\n",
      "    offsets: '[9, 11, 18, 28, 51, 54, 57, 59]'\n",
      "    headers_mode: PromoteHeadersMode.NONE\n",
      "    encoding: FileEncoding.UTF8\n",
      "    skip_rows: 0\n",
      "    skip_mode: SkipMode.NONE\n",
      "\n",
      "<class 'azureml.dataprep.api.parseproperties.ReadJsonProperties'>\n"
     ]
    }
   ],
   "source": [
    "ffb = dprep.detect_file_format('../data/crime_multiple_separators.csv')\n",
    "ffb_2 = dprep.detect_file_format('../data/crime.xlsx')\n",
    "ffb_3 = dprep.detect_file_format('../data/crime_fixed_width_file.txt')\n",
    "ffb_4 = dprep.detect_file_format('../data/json.json')\n",
    "\n",
    "print(ffb.file_format)\n",
    "print(ffb_2.file_format)\n",
    "print(ffb_3.file_format)\n",
    "print(type(ffb_4.file_format))"
   ]
  },
  {
   "cell_type": "markdown",
   "metadata": {},
   "source": [
    "After calling `detect_file_format` we get a `FileFormatBuilder` that has had `learn` called on it. This means the `file_format` attribute will be populated with a `<Parse|Read><type>Properties` object, it contains all the information that was learnt about the file. As we can see above different file types have corresponding file_formats detected. \n",
    "Continuing with our delimited example we can change any of these values and then call `ffb.to_dataflow()` to create a `Dataflow` that has the steps required to parse the datasource."
   ]
  },
  {
   "cell_type": "code",
   "execution_count": 4,
   "metadata": {
    "scrolled": true
   },
   "outputs": [
    {
     "data": {
      "text/html": [
       "<div>\n",
       "<table border=\"1\" class=\"dataframe\">\n",
       "  <thead>\n",
       "    <tr style=\"text-align: right;\">\n",
       "      <th></th>\n",
       "      <th>ID</th>\n",
       "      <th>|CaseNumber|</th>\n",
       "      <th>|Completed|</th>\n",
       "    </tr>\n",
       "  </thead>\n",
       "  <tbody>\n",
       "    <tr>\n",
       "      <th>0</th>\n",
       "      <td>10140490</td>\n",
       "      <td>|HY329907|</td>\n",
       "      <td>|Y|</td>\n",
       "    </tr>\n",
       "    <tr>\n",
       "      <th>1</th>\n",
       "      <td>10139776</td>\n",
       "      <td>|HY329265|</td>\n",
       "      <td>|Y|</td>\n",
       "    </tr>\n",
       "    <tr>\n",
       "      <th>2</th>\n",
       "      <td>10140270</td>\n",
       "      <td>|HY329253|</td>\n",
       "      <td>|N|</td>\n",
       "    </tr>\n",
       "    <tr>\n",
       "      <th>3</th>\n",
       "      <td>10139885</td>\n",
       "      <td>|HY329308|</td>\n",
       "      <td>|Y|</td>\n",
       "    </tr>\n",
       "    <tr>\n",
       "      <th>4</th>\n",
       "      <td>10140379</td>\n",
       "      <td>|HY329556|</td>\n",
       "      <td>|N|</td>\n",
       "    </tr>\n",
       "    <tr>\n",
       "      <th>5</th>\n",
       "      <td>10140868</td>\n",
       "      <td>|HY330421|</td>\n",
       "      <td>|N|</td>\n",
       "    </tr>\n",
       "    <tr>\n",
       "      <th>6</th>\n",
       "      <td>10139762</td>\n",
       "      <td>|HY329232|</td>\n",
       "      <td>|N|</td>\n",
       "    </tr>\n",
       "    <tr>\n",
       "      <th>7</th>\n",
       "      <td>10139722</td>\n",
       "      <td>|HY329228|</td>\n",
       "      <td>|Y|</td>\n",
       "    </tr>\n",
       "    <tr>\n",
       "      <th>8</th>\n",
       "      <td>10139774</td>\n",
       "      <td>|HY329209|</td>\n",
       "      <td>|N|</td>\n",
       "    </tr>\n",
       "    <tr>\n",
       "      <th>9</th>\n",
       "      <td>10139697</td>\n",
       "      <td>|HY329177|</td>\n",
       "      <td>|N|</td>\n",
       "    </tr>\n",
       "  </tbody>\n",
       "</table>\n",
       "</div>"
      ],
      "text/plain": [
       "         ID |CaseNumber| |Completed|\n",
       "0  10140490   |HY329907|         |Y|\n",
       "1  10139776   |HY329265|         |Y|\n",
       "2  10140270   |HY329253|         |N|\n",
       "3  10139885   |HY329308|         |Y|\n",
       "4  10140379   |HY329556|         |N|\n",
       "5  10140868   |HY330421|         |N|\n",
       "6  10139762   |HY329232|         |N|\n",
       "7  10139722   |HY329228|         |Y|\n",
       "8  10139774   |HY329209|         |N|\n",
       "9  10139697   |HY329177|         |N|"
      ]
     },
     "execution_count": 4,
     "metadata": {},
     "output_type": "execute_result"
    }
   ],
   "source": [
    "ffb.file_format.separator = ' '\n",
    "dflow = ffb.to_dataflow()\n",
    "df = dflow.to_pandas_dataframe()\n",
    "df"
   ]
  },
  {
   "cell_type": "markdown",
   "metadata": {},
   "source": [
    "The result is our desired dataframe with `|`'s included.\n",
    "\n",
    "If we refer back to the original data output by `auto_read_file`, the 'ID' column was also detected as numeric and converted to a number data type instead of remaining a string like in the data above.\n",
    "We can perform type inference on our new dataflow using the `dataflow.builders` property. This property exposes different builders that can `learn` from a dataflow and `apply` the learning to produce a new dataflow, very similar to the pattern we used above for the `FileFormatBuilder`."
   ]
  },
  {
   "cell_type": "code",
   "execution_count": 5,
   "metadata": {},
   "outputs": [
    {
     "data": {
      "text/plain": [
       "{'ID': [FieldType.DECIMAL],\n",
       " '|CaseNumber|': [FieldType.STRING],\n",
       " '|Completed|': [FieldType.STRING]}"
      ]
     },
     "execution_count": 5,
     "metadata": {},
     "output_type": "execute_result"
    }
   ],
   "source": [
    "ctb = dflow.builders.set_column_types()\n",
    "ctb.learn()\n",
    "ctb.conversion_candidates"
   ]
  },
  {
   "cell_type": "markdown",
   "metadata": {},
   "source": [
    "After learning `ctb.conversion_candidates` has been populated with information about the inferred types for each column, it is possible for there to be multiple candidate types per column, in this example there is only one type for each column.\n",
    "\n",
    "The candidates look correct, we only want to convert `ID` to be a number column (also known as `DECIMAL`), so applying this `ColumnTypesBuilder` should result in a Dataflow with our columns converted to their respective types."
   ]
  },
  {
   "cell_type": "code",
   "execution_count": 6,
   "metadata": {},
   "outputs": [
    {
     "data": {
      "text/html": [
       "<div>\n",
       "<table border=\"1\" class=\"dataframe\">\n",
       "  <thead>\n",
       "    <tr style=\"text-align: right;\">\n",
       "      <th></th>\n",
       "      <th>ID</th>\n",
       "      <th>|CaseNumber|</th>\n",
       "      <th>|Completed|</th>\n",
       "    </tr>\n",
       "  </thead>\n",
       "  <tbody>\n",
       "    <tr>\n",
       "      <th>0</th>\n",
       "      <td>10140490.0</td>\n",
       "      <td>|HY329907|</td>\n",
       "      <td>|Y|</td>\n",
       "    </tr>\n",
       "    <tr>\n",
       "      <th>1</th>\n",
       "      <td>10139776.0</td>\n",
       "      <td>|HY329265|</td>\n",
       "      <td>|Y|</td>\n",
       "    </tr>\n",
       "    <tr>\n",
       "      <th>2</th>\n",
       "      <td>10140270.0</td>\n",
       "      <td>|HY329253|</td>\n",
       "      <td>|N|</td>\n",
       "    </tr>\n",
       "    <tr>\n",
       "      <th>3</th>\n",
       "      <td>10139885.0</td>\n",
       "      <td>|HY329308|</td>\n",
       "      <td>|Y|</td>\n",
       "    </tr>\n",
       "    <tr>\n",
       "      <th>4</th>\n",
       "      <td>10140379.0</td>\n",
       "      <td>|HY329556|</td>\n",
       "      <td>|N|</td>\n",
       "    </tr>\n",
       "    <tr>\n",
       "      <th>5</th>\n",
       "      <td>10140868.0</td>\n",
       "      <td>|HY330421|</td>\n",
       "      <td>|N|</td>\n",
       "    </tr>\n",
       "    <tr>\n",
       "      <th>6</th>\n",
       "      <td>10139762.0</td>\n",
       "      <td>|HY329232|</td>\n",
       "      <td>|N|</td>\n",
       "    </tr>\n",
       "    <tr>\n",
       "      <th>7</th>\n",
       "      <td>10139722.0</td>\n",
       "      <td>|HY329228|</td>\n",
       "      <td>|Y|</td>\n",
       "    </tr>\n",
       "    <tr>\n",
       "      <th>8</th>\n",
       "      <td>10139774.0</td>\n",
       "      <td>|HY329209|</td>\n",
       "      <td>|N|</td>\n",
       "    </tr>\n",
       "    <tr>\n",
       "      <th>9</th>\n",
       "      <td>10139697.0</td>\n",
       "      <td>|HY329177|</td>\n",
       "      <td>|N|</td>\n",
       "    </tr>\n",
       "  </tbody>\n",
       "</table>\n",
       "</div>"
      ],
      "text/plain": [
       "           ID |CaseNumber| |Completed|\n",
       "0  10140490.0   |HY329907|         |Y|\n",
       "1  10139776.0   |HY329265|         |Y|\n",
       "2  10140270.0   |HY329253|         |N|\n",
       "3  10139885.0   |HY329308|         |Y|\n",
       "4  10140379.0   |HY329556|         |N|\n",
       "5  10140868.0   |HY330421|         |N|\n",
       "6  10139762.0   |HY329232|         |N|\n",
       "7  10139722.0   |HY329228|         |Y|\n",
       "8  10139774.0   |HY329209|         |N|\n",
       "9  10139697.0   |HY329177|         |N|"
      ]
     },
     "execution_count": 6,
     "metadata": {},
     "output_type": "execute_result"
    }
   ],
   "source": [
    "dflow_converted = ctb.to_dataflow()\n",
    "\n",
    "df_converted = dflow_converted.to_pandas_dataframe()\n",
    "df_converted"
   ]
  }
 ],
 "metadata": {
  "kernelspec": {
   "display_name": "Python 3",
   "language": "python",
   "name": "python3"
  },
  "language_info": {
   "codemirror_mode": {
    "name": "ipython",
    "version": 3
   },
   "file_extension": ".py",
   "mimetype": "text/x-python",
   "name": "python",
   "nbconvert_exporter": "python",
   "pygments_lexer": "ipython3",
   "version": "3.6.4"
  }
 },
 "nbformat": 4,
 "nbformat_minor": 2
}
