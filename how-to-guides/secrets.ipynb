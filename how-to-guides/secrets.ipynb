{
 "cells": [
  {
   "cell_type": "markdown",
   "metadata": {},
   "source": [
    "# Providing Secrets\n",
    "Copyright (c) Microsoft Corporation. All rights reserved.<br>\n",
    "Licensed under the MIT License."
   ]
  },
  {
   "cell_type": "markdown",
   "metadata": {},
   "source": [
    "Currently, secrets are only persisted for the lifetime of the engine process and they are not part of the dprep file. If you started a new session (hence start an engine process) and load a package and try to run a dataflow within that package, you will need to call `use_secrets` to register the required secrets to use during execution, otherwise the execution will fail as the required secrets are not available.\n",
    "\n",
    "In this notebook, we will:\n",
    "1. Loading a previously saved package\n",
    "2. Call `get_missing_secrets` to determine the missing secrets\n",
    "3. Call `use_secrets` and pass in the missing secrets to register it with the engine for this session\n",
    "4. Call `head` to see the a preview of the data"
   ]
  },
  {
   "cell_type": "code",
   "execution_count": 1,
   "metadata": {},
   "outputs": [],
   "source": [
    "import azureml.dataprep as dprep\n",
    "\n",
    "import os"
   ]
  },
  {
   "cell_type": "markdown",
   "metadata": {},
   "source": [
    "Let's load the previously saved package."
   ]
  },
  {
   "cell_type": "code",
   "execution_count": 2,
   "metadata": {},
   "outputs": [],
   "source": [
    "pkg = dprep.Package.open(file_path='../data/secrets.dprep')\n",
    "dflow = pkg.dataflows[0]"
   ]
  },
  {
   "cell_type": "markdown",
   "metadata": {},
   "source": [
    "Let's call `get_missing_secrets` to see what secrets are required missing in the engine."
   ]
  },
  {
   "cell_type": "code",
   "execution_count": 3,
   "metadata": {},
   "outputs": [
    {
     "data": {
      "text/plain": [
       "['https://dpreptestfiles.blob.core.windows.net/testfiles/read_csv_duplicate_headers.csv']"
      ]
     },
     "execution_count": 3,
     "metadata": {},
     "output_type": "execute_result"
    }
   ],
   "source": [
    "dflow.get_missing_secrets()"
   ]
  },
  {
   "cell_type": "markdown",
   "metadata": {},
   "source": [
    "Let's now read the secrets from an environment variable and put it in our secret dictionary and call `use_secrets` with the secrets. This will register these secrets in the engine so you don't need to provide them again in this session.\n",
    "\n",
    "_Note: It is a bad practice to have secrets in files that will be checked into source control._"
   ]
  },
  {
   "cell_type": "code",
   "execution_count": 4,
   "metadata": {},
   "outputs": [],
   "source": [
    "sas = os.environ['SCENARIOS_SECRETS']\n",
    "secrets = {\n",
    "    'https://dpreptestfiles.blob.core.windows.net/testfiles/read_csv_duplicate_headers.csv': sas\n",
    "}\n",
    "dflow.use_secrets(secrets=secrets)"
   ]
  },
  {
   "cell_type": "markdown",
   "metadata": {},
   "source": [
    "We can now call `head` without passing in `secrets` and the engine will happily execute and show us a preview of the data."
   ]
  },
  {
   "cell_type": "code",
   "execution_count": 5,
   "metadata": {},
   "outputs": [
    {
     "data": {
      "text/html": [
       "<div>\n",
       "<table border=\"1\" class=\"dataframe\">\n",
       "  <thead>\n",
       "    <tr style=\"text-align: right;\">\n",
       "      <th></th>\n",
       "      <th>stnam</th>\n",
       "      <th>fipst</th>\n",
       "      <th>leaid</th>\n",
       "      <th>leanm10</th>\n",
       "      <th>ncessch</th>\n",
       "      <th>schnam10</th>\n",
       "      <th>ALL_MTH00numvalid_1011</th>\n",
       "      <th>ALL_MTH00pctprof_1011</th>\n",
       "      <th>MAM_MTH00numvalid_1011</th>\n",
       "      <th>MAM_MTH00pctprof_1011</th>\n",
       "      <th>...</th>\n",
       "      <th>MIG_MTH05numvalid_1011</th>\n",
       "      <th>MIG_MTH05pctprof_1011</th>\n",
       "      <th>MIG_MTH06numvalid_1011</th>\n",
       "      <th>MIG_MTH06pctprof_1011</th>\n",
       "      <th>MIG_MTH07numvalid_1011</th>\n",
       "      <th>MIG_MTH07pctprof_1011</th>\n",
       "      <th>MIG_MTH08numvalid_1011</th>\n",
       "      <th>MIG_MTH08pctprof_1011</th>\n",
       "      <th>MIG_MTHHSnumvalid_1011</th>\n",
       "      <th>MIG_MTHHSpctprof_1011</th>\n",
       "    </tr>\n",
       "  </thead>\n",
       "  <tbody>\n",
       "    <tr>\n",
       "      <th>0</th>\n",
       "      <td>stnam</td>\n",
       "      <td>fipst</td>\n",
       "      <td>leaid</td>\n",
       "      <td>leanm10</td>\n",
       "      <td>ncessch</td>\n",
       "      <td>schnam10</td>\n",
       "      <td>ALL_MTH00numvalid_1011</td>\n",
       "      <td>ALL_MTH00pctprof_1011</td>\n",
       "      <td>MAM_MTH00numvalid_1011</td>\n",
       "      <td>MAM_MTH00pctprof_1011</td>\n",
       "      <td>...</td>\n",
       "      <td>MIG_MTH05numvalid_1011</td>\n",
       "      <td>MIG_MTH05pctprof_1011</td>\n",
       "      <td>MIG_MTH06numvalid_1011</td>\n",
       "      <td>MIG_MTH06pctprof_1011</td>\n",
       "      <td>MIG_MTH07numvalid_1011</td>\n",
       "      <td>MIG_MTH07pctprof_1011</td>\n",
       "      <td>MIG_MTH08numvalid_1011</td>\n",
       "      <td>MIG_MTH08pctprof_1011</td>\n",
       "      <td>MIG_MTHHSnumvalid_1011</td>\n",
       "      <td>MIG_MTHHSpctprof_1011</td>\n",
       "    </tr>\n",
       "    <tr>\n",
       "      <th>1</th>\n",
       "      <td>ALABAMA</td>\n",
       "      <td>1</td>\n",
       "      <td>101710</td>\n",
       "      <td>Hale County</td>\n",
       "      <td>10171002158</td>\n",
       "      <td>Greensboro Elem Sch</td>\n",
       "      <td>299</td>\n",
       "      <td>82</td>\n",
       "      <td>.</td>\n",
       "      <td>.</td>\n",
       "      <td>...</td>\n",
       "      <td>.</td>\n",
       "      <td>.</td>\n",
       "      <td>.</td>\n",
       "      <td>.</td>\n",
       "      <td>.</td>\n",
       "      <td>.</td>\n",
       "      <td>.</td>\n",
       "      <td>.</td>\n",
       "      <td>.</td>\n",
       "      <td>.</td>\n",
       "    </tr>\n",
       "    <tr>\n",
       "      <th>2</th>\n",
       "      <td>ALABAMA</td>\n",
       "      <td>1</td>\n",
       "      <td>101710</td>\n",
       "      <td>Hale County</td>\n",
       "      <td>10171002162</td>\n",
       "      <td>Greensboro High Sch</td>\n",
       "      <td>94</td>\n",
       "      <td>55-59</td>\n",
       "      <td>.</td>\n",
       "      <td>.</td>\n",
       "      <td>...</td>\n",
       "      <td>.</td>\n",
       "      <td>.</td>\n",
       "      <td>.</td>\n",
       "      <td>.</td>\n",
       "      <td>.</td>\n",
       "      <td>.</td>\n",
       "      <td>.</td>\n",
       "      <td>.</td>\n",
       "      <td>.</td>\n",
       "      <td>.</td>\n",
       "    </tr>\n",
       "    <tr>\n",
       "      <th>3</th>\n",
       "      <td>ALABAMA</td>\n",
       "      <td>1</td>\n",
       "      <td>101710</td>\n",
       "      <td>Hale County</td>\n",
       "      <td>10171002156</td>\n",
       "      <td>Greensboro Middle Sch</td>\n",
       "      <td>287</td>\n",
       "      <td>63</td>\n",
       "      <td>.</td>\n",
       "      <td>.</td>\n",
       "      <td>...</td>\n",
       "      <td>.</td>\n",
       "      <td>.</td>\n",
       "      <td>.</td>\n",
       "      <td>.</td>\n",
       "      <td>.</td>\n",
       "      <td>.</td>\n",
       "      <td>.</td>\n",
       "      <td>.</td>\n",
       "      <td>.</td>\n",
       "      <td>.</td>\n",
       "    </tr>\n",
       "    <tr>\n",
       "      <th>4</th>\n",
       "      <td>ALABAMA</td>\n",
       "      <td>1</td>\n",
       "      <td>101710</td>\n",
       "      <td>Hale County</td>\n",
       "      <td>10171000588</td>\n",
       "      <td>Hale Co High Sch</td>\n",
       "      <td>257</td>\n",
       "      <td>74</td>\n",
       "      <td>2</td>\n",
       "      <td>PS</td>\n",
       "      <td>...</td>\n",
       "      <td>.</td>\n",
       "      <td>.</td>\n",
       "      <td>.</td>\n",
       "      <td>.</td>\n",
       "      <td>.</td>\n",
       "      <td>.</td>\n",
       "      <td>.</td>\n",
       "      <td>.</td>\n",
       "      <td>.</td>\n",
       "      <td>.</td>\n",
       "    </tr>\n",
       "  </tbody>\n",
       "</table>\n",
       "<p>5 rows × 230 columns</p>\n",
       "</div>"
      ],
      "text/plain": [
       "     stnam  fipst   leaid      leanm10      ncessch               schnam10  \\\n",
       "0    stnam  fipst   leaid      leanm10      ncessch               schnam10   \n",
       "1  ALABAMA      1  101710  Hale County  10171002158    Greensboro Elem Sch   \n",
       "2  ALABAMA      1  101710  Hale County  10171002162    Greensboro High Sch   \n",
       "3  ALABAMA      1  101710  Hale County  10171002156  Greensboro Middle Sch   \n",
       "4  ALABAMA      1  101710  Hale County  10171000588       Hale Co High Sch   \n",
       "\n",
       "   ALL_MTH00numvalid_1011  ALL_MTH00pctprof_1011  MAM_MTH00numvalid_1011  \\\n",
       "0  ALL_MTH00numvalid_1011  ALL_MTH00pctprof_1011  MAM_MTH00numvalid_1011   \n",
       "1                     299                     82                       .   \n",
       "2                      94                  55-59                       .   \n",
       "3                     287                     63                       .   \n",
       "4                     257                     74                       2   \n",
       "\n",
       "   MAM_MTH00pctprof_1011          ...            MIG_MTH05numvalid_1011  \\\n",
       "0  MAM_MTH00pctprof_1011          ...            MIG_MTH05numvalid_1011   \n",
       "1                      .          ...                                 .   \n",
       "2                      .          ...                                 .   \n",
       "3                      .          ...                                 .   \n",
       "4                     PS          ...                                 .   \n",
       "\n",
       "   MIG_MTH05pctprof_1011  MIG_MTH06numvalid_1011  MIG_MTH06pctprof_1011  \\\n",
       "0  MIG_MTH05pctprof_1011  MIG_MTH06numvalid_1011  MIG_MTH06pctprof_1011   \n",
       "1                      .                       .                      .   \n",
       "2                      .                       .                      .   \n",
       "3                      .                       .                      .   \n",
       "4                      .                       .                      .   \n",
       "\n",
       "   MIG_MTH07numvalid_1011  MIG_MTH07pctprof_1011  MIG_MTH08numvalid_1011  \\\n",
       "0  MIG_MTH07numvalid_1011  MIG_MTH07pctprof_1011  MIG_MTH08numvalid_1011   \n",
       "1                       .                      .                       .   \n",
       "2                       .                      .                       .   \n",
       "3                       .                      .                       .   \n",
       "4                       .                      .                       .   \n",
       "\n",
       "   MIG_MTH08pctprof_1011  MIG_MTHHSnumvalid_1011  MIG_MTHHSpctprof_1011  \n",
       "0  MIG_MTH08pctprof_1011  MIG_MTHHSnumvalid_1011  MIG_MTHHSpctprof_1011  \n",
       "1                      .                       .                      .  \n",
       "2                      .                       .                      .  \n",
       "3                      .                       .                      .  \n",
       "4                      .                       .                      .  \n",
       "\n",
       "[5 rows x 230 columns]"
      ]
     },
     "execution_count": 5,
     "metadata": {},
     "output_type": "execute_result"
    }
   ],
   "source": [
    "dflow.head(5)"
   ]
  }
 ],
 "metadata": {
  "kernelspec": {
   "display_name": "Python 3",
   "language": "python",
   "name": "python3"
  },
  "language_info": {
   "codemirror_mode": {
    "name": "ipython",
    "version": 3
   },
   "file_extension": ".py",
   "mimetype": "text/x-python",
   "name": "python",
   "nbconvert_exporter": "python",
   "pygments_lexer": "ipython3",
   "version": "3.6.4"
  }
 },
 "nbformat": 4,
 "nbformat_minor": 2
}
