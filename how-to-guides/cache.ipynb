{
 "cells": [
  {
   "cell_type": "markdown",
   "metadata": {},
   "source": [
    "# Cache\n",
    "Copyright (c) Microsoft Corporation. All rights reserved.<br>\n",
    "Licensed under the MIT License."
   ]
  },
  {
   "cell_type": "markdown",
   "metadata": {},
   "source": [
    "A Dataflow can be cached as a file on your disk during a local run by calling `dflow_cached = dflow.cache(directory_path)`. Doing this will run all the steps in the Dataflow, `dflow`, and save the cached data to the specified `directory_path`. The returned Dataflow, `dflow_cached`, has a Caching Step added at the end. Any subsequent runs on on the Dataflow `dflow_cached` will reuse the cached data, and the steps before the Caching Step will not be run again.\n",
    "\n",
    "Caching avoids running transforms multiple times, which can make local runs more efficient. Here are common places to use Caching:\n",
    "- after reading data from remote\n",
    "- after expensive transforms, such as Sort\n",
    "- after transforms that change the shape of data, such as Sampling, Filter and Summarize\n",
    "\n",
    "Caching Step will be ignored during scale-out run invoked by `to_spark_dataframe()`."
   ]
  },
  {
   "cell_type": "markdown",
   "metadata": {},
   "source": [
    "We will start by reading in a dataset and applying some transforms to the Dataflow."
   ]
  },
  {
   "cell_type": "code",
   "execution_count": 1,
   "metadata": {},
   "outputs": [
    {
     "data": {
      "text/html": [
       "<div>\n",
       "<table border=\"1\" class=\"dataframe\">\n",
       "  <thead>\n",
       "    <tr style=\"text-align: right;\">\n",
       "      <th></th>\n",
       "      <th>ID</th>\n",
       "      <th>Case Number</th>\n",
       "      <th>Date</th>\n",
       "      <th>Primary Type</th>\n",
       "    </tr>\n",
       "  </thead>\n",
       "  <tbody>\n",
       "    <tr>\n",
       "      <th>0</th>\n",
       "      <td>10534446</td>\n",
       "      <td>HZ277630</td>\n",
       "      <td>4/15/2016 10:00</td>\n",
       "      <td>THEFT</td>\n",
       "    </tr>\n",
       "  </tbody>\n",
       "</table>\n",
       "</div>"
      ],
      "text/plain": [
       "         ID Case Number             Date Primary Type\n",
       "0  10534446    HZ277630  4/15/2016 10:00        THEFT"
      ]
     },
     "execution_count": 1,
     "metadata": {},
     "output_type": "execute_result"
    }
   ],
   "source": [
    "import azureml.dataprep as dprep\n",
    "dflow = dprep.read_csv(path='../data/crime-spring.csv')\n",
    "dflow = dflow.take_sample(probability=0.2, seed=7)\n",
    "dflow = dflow.sort_asc(columns='Primary Type')\n",
    "dflow = dflow.keep_columns(['ID', 'Case Number', 'Date', 'Primary Type'])\n",
    "dflow.head(5)"
   ]
  },
  {
   "cell_type": "markdown",
   "metadata": {},
   "source": [
    "Next, we will choose a directory to store the cached data."
   ]
  },
  {
   "cell_type": "code",
   "execution_count": 2,
   "metadata": {},
   "outputs": [
    {
     "data": {
      "text/plain": [
       "'/mnt/vsts/4/s/target/Python/debug/azureml-dataprep/docs/how-to-guides/dataflow-cache'"
      ]
     },
     "execution_count": 2,
     "metadata": {},
     "output_type": "execute_result"
    }
   ],
   "source": [
    "import os\n",
    "from pathlib import Path\n",
    "cache_dir = str(Path(os.getcwd(), 'dataflow-cache'))\n",
    "cache_dir"
   ]
  },
  {
   "cell_type": "markdown",
   "metadata": {},
   "source": [
    "We will now call `dflow.cache(directory_path)` to cache the Dataflow to your directory."
   ]
  },
  {
   "cell_type": "code",
   "execution_count": 3,
   "metadata": {},
   "outputs": [],
   "source": [
    "dflow_cached = dflow.cache(directory_path=cache_dir)"
   ]
  },
  {
   "cell_type": "markdown",
   "metadata": {},
   "source": [
    "Now we will check steps in the `dflow_cached` to see that all of the previous steps were cached."
   ]
  },
  {
   "cell_type": "code",
   "execution_count": 4,
   "metadata": {},
   "outputs": [
    {
     "data": {
      "text/plain": [
       "['Microsoft.DPrep.GetFilesBlock',\n",
       " 'Microsoft.DPrep.ParseDelimitedBlock',\n",
       " 'Microsoft.DPrep.DropColumnsBlock',\n",
       " 'Microsoft.DPrep.TakeSampleBlock',\n",
       " 'Microsoft.DPrep.SortBlock',\n",
       " 'Microsoft.DPrep.KeepColumnsBlock',\n",
       " 'Microsoft.DPrep.CacheBlock']"
      ]
     },
     "execution_count": 4,
     "metadata": {},
     "output_type": "execute_result"
    }
   ],
   "source": [
    "[s.step_type for s in dflow_cached._get_steps()]"
   ]
  },
  {
   "cell_type": "markdown",
   "metadata": {},
   "source": [
    "We also check the data stored in the cache directory."
   ]
  },
  {
   "cell_type": "code",
   "execution_count": 5,
   "metadata": {},
   "outputs": [
    {
     "data": {
      "text/plain": [
       "['873d160b-cf61-40e0-baaa-c2073e20de09.cacheIndex',\n",
       " 'a9fd469a-9909-4e4b-b819-db6031347dea']"
      ]
     },
     "execution_count": 5,
     "metadata": {},
     "output_type": "execute_result"
    }
   ],
   "source": [
    "os.listdir(cache_dir)"
   ]
  },
  {
   "cell_type": "markdown",
   "metadata": {},
   "source": [
    "Running against `dflow_cached` will reuse the cached data and skip running all of the previous steps again."
   ]
  },
  {
   "cell_type": "code",
   "execution_count": 6,
   "metadata": {},
   "outputs": [
    {
     "data": {
      "text/html": [
       "<div>\n",
       "<table border=\"1\" class=\"dataframe\">\n",
       "  <thead>\n",
       "    <tr style=\"text-align: right;\">\n",
       "      <th></th>\n",
       "      <th>ID</th>\n",
       "      <th>Case Number</th>\n",
       "      <th>Date</th>\n",
       "      <th>Primary Type</th>\n",
       "    </tr>\n",
       "  </thead>\n",
       "  <tbody>\n",
       "    <tr>\n",
       "      <th>0</th>\n",
       "      <td>10534446</td>\n",
       "      <td>HZ277630</td>\n",
       "      <td>4/15/2016 10:00</td>\n",
       "      <td>THEFT</td>\n",
       "    </tr>\n",
       "  </tbody>\n",
       "</table>\n",
       "</div>"
      ],
      "text/plain": [
       "         ID Case Number             Date Primary Type\n",
       "0  10534446    HZ277630  4/15/2016 10:00        THEFT"
      ]
     },
     "execution_count": 6,
     "metadata": {},
     "output_type": "execute_result"
    }
   ],
   "source": [
    "dflow_cached.head(5)"
   ]
  },
  {
   "cell_type": "markdown",
   "metadata": {},
   "source": [
    "Adding additional steps to `dflow_cached` will also reuse the cache data and skip running the steps prior to the Cache Step."
   ]
  },
  {
   "cell_type": "code",
   "execution_count": 7,
   "metadata": {},
   "outputs": [],
   "source": [
    "dflow_cached_take = dflow_cached.take(10)\n",
    "dflow_cached_skip = dflow_cached.skip(10).take(10)\n",
    "\n",
    "df_cached_take = dflow_cached_take.to_pandas_dataframe()\n",
    "df_cached_skip = dflow_cached_skip.to_pandas_dataframe()"
   ]
  },
  {
   "cell_type": "code",
   "execution_count": 8,
   "metadata": {},
   "outputs": [],
   "source": [
    "# shutil.rmtree will then clean up the cached data \n",
    "import shutil\n",
    "shutil.rmtree(path=cache_dir)"
   ]
  }
 ],
 "metadata": {
  "kernelspec": {
   "display_name": "Python 3",
   "language": "python",
   "name": "python3"
  },
  "language_info": {
   "codemirror_mode": {
    "name": "ipython",
    "version": 3
   },
   "file_extension": ".py",
   "mimetype": "text/x-python",
   "name": "python",
   "nbconvert_exporter": "python",
   "pygments_lexer": "ipython3",
   "version": "3.6.4"
  }
 },
 "nbformat": 4,
 "nbformat_minor": 2
}
